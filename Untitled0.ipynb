{
  "nbformat": 4,
  "nbformat_minor": 0,
  "metadata": {
    "colab": {
      "provenance": [],
      "mount_file_id": "10PVduEb7lco0pVZjemGhWxac9zUcFebY",
      "authorship_tag": "ABX9TyPU9KBJxK3X2SokpTg5Pz6i",
      "include_colab_link": true
    },
    "kernelspec": {
      "name": "python3",
      "display_name": "Python 3"
    },
    "language_info": {
      "name": "python"
    }
  },
  "cells": [
    {
      "cell_type": "markdown",
      "metadata": {
        "id": "view-in-github",
        "colab_type": "text"
      },
      "source": [
        "<a href=\"https://colab.research.google.com/github/rycaon/DAG-diagram/blob/master/Untitled0.ipynb\" target=\"_parent\"><img src=\"https://colab.research.google.com/assets/colab-badge.svg\" alt=\"Open In Colab\"/></a>"
      ]
    },
    {
      "cell_type": "code",
      "execution_count": 2,
      "metadata": {
        "id": "kX00chaCfY3f",
        "outputId": "da307889-4e8c-427a-a941-c79ff1560e3a",
        "colab": {
          "base_uri": "https://localhost:8080/"
        }
      },
      "outputs": [
        {
          "output_type": "stream",
          "name": "stdout",
          "text": [
            "   姓名  年龄  城市\n",
            "0  张三  25  北京\n",
            "1  李四  30  上海\n",
            "2  王五  28  广州\n",
            "3  赵六  35  深圳\n"
          ]
        }
      ],
      "source": [
        "# prompt: 生成一个测试表格\n",
        "\n",
        "import pandas as pd\n",
        "\n",
        "# 创建一个示例 DataFrame\n",
        "data = {'姓名': ['张三', '李四', '王五', '赵六'],\n",
        "        '年龄': [25, 30, 28, 35],\n",
        "        '城市': ['北京', '上海', '广州', '深圳']}\n",
        "\n",
        "df = pd.DataFrame(data)\n",
        "\n",
        "# 打印 DataFrame\n",
        "print(df)"
      ]
    }
  ]
}